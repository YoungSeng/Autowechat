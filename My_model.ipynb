{
 "cells": [
  {
   "cell_type": "code",
   "execution_count": 1,
   "outputs": [],
   "source": [
    "def wechat_init():\n",
    "\n",
    "    pos1 = 'pos1.png'\n",
    "    pos2 = 'pos2.png'\n",
    "    send = 'send.png'\n",
    "    while True:\n",
    "        location1 = pyautogui.locateCenterOnScreen(pos1, confidence=0.9)\n",
    "        # location2 = pyautogui.locateCenterOnScreen(pos2, confidence=0.9)\n",
    "        location3 = pyautogui.locateCenterOnScreen(send, confidence=0.9)\n",
    "        if location1 and location3:\n",
    "            break\n",
    "        else:\n",
    "            print(\"未打开微信,1秒后重试\")\n",
    "            time.sleep(1)\n",
    "    print(location1)\n",
    "    return location1, location3"
   ],
   "metadata": {
    "collapsed": false,
    "pycharm": {
     "name": "#%% 找微信开了没，微信的位置\n"
    }
   }
  },
  {
   "cell_type": "code",
   "execution_count": 3,
   "outputs": [],
   "source": [
    "def mainWork():\n",
    "    red = 'red.png'\n",
    "    while True:\n",
    "        location = pyautogui.locateCenterOnScreen(red, confidence=0.9)\n",
    "        if location:\n",
    "            break\n",
    "        else:\n",
    "            print(\"没有新消息,1秒后重试\")\n",
    "            time.sleep(1)\n",
    "    return location\n",
    "\n",
    "# pic = pyautogui.screenshot('tmp.png',\n",
    "#                             region=(location1[0] + 20, location1[1] - (90 * 2), 170 * 2, 80 * 2))\n",
    "#\n",
    "# print(pic)\n",
    "\n"
   ],
   "metadata": {
    "collapsed": false,
    "pycharm": {
     "name": "#%% 找有没有新消息\n"
    }
   }
  },
  {
   "cell_type": "code",
   "execution_count": 4,
   "outputs": [],
   "source": [
    "def find_txt():\n",
    "    chat = 'pos3.png'\n",
    "    while True:\n",
    "        locations = pyautogui.locateAllOnScreen(chat)       # , confidence=0.9\n",
    "        if locations:\n",
    "            break\n",
    "        else:\n",
    "            print(\"没有消息,1秒后重试\")\n",
    "            time.sleep(1)\n",
    "\n",
    "    pos = sorted(list(locations), key=lambda x:x[1], reverse=True)[0]\n",
    "    print(pos)\n",
    "    pyautogui.doubleClick([pos[0]+25, pos[1], pos[2], pos[3]])\n",
    "    time.sleep(0.5)\n",
    "    pyautogui.hotkey('ctrl', 'c')\n",
    "    txt = pyperclip.paste()\n",
    "    print(str(txt))\n",
    "    return str(txt)\n"
   ],
   "metadata": {
    "collapsed": false,
    "pycharm": {
     "name": "#%%\n"
    }
   }
  },
  {
   "cell_type": "code",
   "execution_count": 4,
   "metadata": {
    "pycharm": {
     "name": "#%%\n"
    }
   },
   "outputs": [
    {
     "name": "stdout",
     "output_type": "stream",
     "text": [
      "client_id:gTR2bw9ZjPFiaRL5j66UpZKZ\n",
      "client_secret:FV2tXAGnvmdmEoVapTaotK6W7IzKrNrA\n",
      "{'refresh_token': '25.c838d9acd8aefbe83bbe258bb37497c6.315360000.1964058724.282335-17052833', 'expires_in': 2592000, 'session_key': '9mzdA5LfFathWp3jeRxobbkB8IGaRgb77LOseG+tEQH64bwya4FxrWaY+JDRSNfLneOpTlh1Gb2b4vCAOLBLcS9Tfl4wnw==', 'access_token': '24.88f6a9565e90f4ed3b9cc98f4f62fa81.2592000.1651290724.282335-17052833', 'scope': 'brain_ocr_meter brain_doc_analysis brain_ocr_webimage_loc vis-ocr_机动车购车发票识别 brain_ocr_vehicle_invoice brain_formula brain_qrcode brain_ocr_business_card vis-ocr_机动车检验合格证识别 vis-ocr_保单识别 vis-ocr_行程单识别 brain_ocr_vehicle_certificate brain_ocr_air_ticket brain_ocr_insurance_doc public vis-ocr_ocr brain_ocr_scope brain_ocr_general brain_ocr_general_basic vis-ocr_business_license brain_ocr_webimage brain_all_scope brain_ocr_idcard brain_ocr_driving_license brain_ocr_vehicle_license vis-ocr_plate_number brain_solution brain_ocr_plate_number brain_ocr_accurate brain_ocr_accurate_basic brain_ocr_receipt brain_ocr_business_license brain_solution_iocr brain_ocr_handwriting brain_ocr_passport brain_ocr_vat_invoice brain_numbers brain_ocr_train_ticket brain_ocr_taxi_receipt vis-ocr_household_register vis-ocr_vis-classify_birth_certificate vis-ocr_台湾通行证 vis-ocr_港澳通行证 vis-ocr_车辆vin码识别 vis-ocr_定额发票识别 brain_ocr_vin brain_ocr_quota_invoice brain_ocr_birth_certificate brain_ocr_household_register brain_ocr_HK_Macau_pass brain_ocr_taiwan_pass wise_adapt lebo_resource_base lightservice_public hetu_basic lightcms_map_poi kaidian_kaidian ApsMisTest_Test权限 vis-classify_flower lpq_开放 cop_helloScope ApsMis_fangdi_permission smartapp_snsapi_base smartapp_mapp_dev_manage iop_autocar oauth_tp_app smartapp_smart_game_openapi oauth_sessionkey smartapp_swanid_verify smartapp_opensource_openapi smartapp_opensource_recapi fake_face_detect_开放Scope vis-ocr_虚拟人物助理 idl-video_虚拟人物助理 smartapp_component smartapp_search_plugin avatar_video_test b2b_tp_openapi b2b_tp_openapi_online', 'session_secret': '072be7208b70e7fa6b50201988614ea1'}\n",
      "https://aip.baidubce.com/rest/2.0/ocr/v1/general_basic\n"
     ]
    }
   ],
   "source": [
    "import OCR\n",
    "\n",
    "response, request_url = OCR.OCR_init()\n",
    "print(request_url)"
   ]
  },
  {
   "cell_type": "code",
   "execution_count": 5,
   "outputs": [
    {
     "name": "stdout",
     "output_type": "stream",
     "text": [
      "['还是你的记得记得都就差你']\n"
     ]
    }
   ],
   "source": [
    "txt = ''.join(OCR.picTotxt(response, request_url))"
   ],
   "metadata": {
    "collapsed": false,
    "pycharm": {
     "name": "#%%\n"
    }
   }
  },
  {
   "cell_type": "code",
   "execution_count": 4,
   "outputs": [
    {
     "name": "stdout",
     "output_type": "stream",
     "text": [
      "{'refresh_token': '25.d3febe6615d7ed96ae52ccd0c28a6c8c.315360000.1964086270.282335-25882630', 'expires_in': 2592000, 'session_key': '9mzdWEfSzk0U6vI/1n9aPjeDRWxbtrm3eD4xdiEA7IdYsEJL6QY8J5N+RjW6nxFUcS4bfTGK/PATV6omw/9prF8MORogLg==', 'access_token': '24.c73721af22b351f0d799550b73faf22c.2592000.1651318270.282335-25882630', 'scope': 'public brain_all_scope unit_理解与交互V2 wise_adapt lebo_resource_base lightservice_public hetu_basic lightcms_map_poi kaidian_kaidian ApsMisTest_Test权限 vis-classify_flower lpq_开放 cop_helloScope ApsMis_fangdi_permission smartapp_snsapi_base smartapp_mapp_dev_manage iop_autocar oauth_tp_app smartapp_smart_game_openapi oauth_sessionkey smartapp_swanid_verify smartapp_opensource_openapi smartapp_opensource_recapi fake_face_detect_开放Scope vis-ocr_虚拟人物助理 idl-video_虚拟人物助理 smartapp_component smartapp_search_plugin avatar_video_test b2b_tp_openapi b2b_tp_openapi_online', 'session_secret': '9f99e719fa76a8291c029e5f410b10e3'}\n"
     ]
    }
   ],
   "source": [
    "import CHAT\n",
    "\n",
    "access_token = CHAT.CHAT_init()"
   ],
   "metadata": {
    "collapsed": false,
    "pycharm": {
     "name": "#%%\n"
    }
   }
  },
  {
   "cell_type": "code",
   "execution_count": 6,
   "outputs": [
    {
     "name": "stdout",
     "output_type": "stream",
     "text": [
      "读罢中庸又一春,雪泥鸿爪记犹新,清华自古多才俊,大学从来少圣人\n",
      "读罢中庸又一春,雪泥鸿爪记犹新,清华自古多才俊,大学从来少圣人\n"
     ]
    }
   ],
   "source": [
    "response = CHAT.txtTotxt(access_token, str(txt))"
   ],
   "metadata": {
    "collapsed": false,
    "pycharm": {
     "name": "#%%\n"
    }
   }
  },
  {
   "cell_type": "code",
   "execution_count": 5,
   "outputs": [],
   "source": [
    "\n",
    "def send_response(location1, location3, response):\n",
    "    pyautogui.click([location1[0]+50, location1[1]+50])\n",
    "    pyperclip.copy(response)\n",
    "    pyautogui.hotkey('ctrl', 'v')\n",
    "    time.sleep(0.5)\n",
    "\n",
    "    pyautogui.click(location3)\n"
   ],
   "metadata": {
    "collapsed": false,
    "pycharm": {
     "name": "#%%\n"
    }
   }
  },
  {
   "cell_type": "code",
   "execution_count": 7,
   "outputs": [
    {
     "name": "stdout",
     "output_type": "stream",
     "text": [
      "Point(x=1385, y=820)\n",
      "{'refresh_token': '25.c1a7fd2d0dbfdf405b7a42acdfb751d4.315360000.1964087379.282335-25882630', 'expires_in': 2592000, 'session_key': '9mzdXqQmriQYdJXQ1xeq8dmgHsjgLUlnFj8kY9JaF5syC9aht3VRThSnCMRrNhdTI+ysXZvMFEpin785nBqxOSfJQBWFrg==', 'access_token': '24.ea365eca427f5569e0f8af3e3bc57428.2592000.1651319379.282335-25882630', 'scope': 'public brain_all_scope unit_理解与交互V2 wise_adapt lebo_resource_base lightservice_public hetu_basic lightcms_map_poi kaidian_kaidian ApsMisTest_Test权限 vis-classify_flower lpq_开放 cop_helloScope ApsMis_fangdi_permission smartapp_snsapi_base smartapp_mapp_dev_manage iop_autocar oauth_tp_app smartapp_smart_game_openapi oauth_sessionkey smartapp_swanid_verify smartapp_opensource_openapi smartapp_opensource_recapi fake_face_detect_开放Scope vis-ocr_虚拟人物助理 idl-video_虚拟人物助理 smartapp_component smartapp_search_plugin avatar_video_test b2b_tp_openapi b2b_tp_openapi_online', 'session_secret': '286de6d4c7fb1925b50e42f3d374ddf7'}\n",
      "没有新消息,1秒后重试\n",
      "没有新消息,1秒后重试\n",
      "没有新消息,1秒后重试\n",
      "没有新消息,1秒后重试\n",
      "没有新消息,1秒后重试\n",
      "Box(left=1423, top=727, width=17, height=45)\n",
      "response\n",
      "response\n",
      "月赋新词上小楼,金风玉露几时休,清辉不解离人意,犹自天明照九州\n",
      "月赋新词上小楼,金风玉露几时休,清辉不解离人意,犹自天明照九州\n"
     ]
    }
   ],
   "source": [
    "if __name__ == '__main__':\n",
    "    import pyautogui\n",
    "    import time\n",
    "    import pyperclip\n",
    "    import CHAT\n",
    "\n",
    "    location1, location3 = wechat_init()\n",
    "    access_token = CHAT.CHAT_init()\n",
    "    red = mainWork()\n",
    "    pyautogui.click(red)\n",
    "    txt = find_txt()\n",
    "    print(txt)\n",
    "    response = CHAT.txtTotxt(access_token, txt)\n",
    "    print(response)\n",
    "    send_response(location1, location3, response)\n",
    "\n"
   ],
   "metadata": {
    "collapsed": false,
    "pycharm": {
     "name": "#%%\n"
    }
   }
  }
 ],
 "metadata": {
  "kernelspec": {
   "name": "pycharm-db59e93",
   "language": "python",
   "display_name": "PyCharm (wechat)"
  },
  "language_info": {
   "codemirror_mode": {
    "name": "ipython",
    "version": 3
   },
   "file_extension": ".py",
   "mimetype": "text/x-python",
   "name": "python",
   "nbconvert_exporter": "python",
   "pygments_lexer": "ipython3",
   "version": "3.7.11"
  }
 },
 "nbformat": 4,
 "nbformat_minor": 1
}